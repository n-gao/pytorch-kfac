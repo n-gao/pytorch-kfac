{
 "cells": [
  {
   "cell_type": "code",
   "execution_count": 11,
   "metadata": {},
   "outputs": [
    {
     "name": "stdout",
     "output_type": "stream",
     "text": [
      "The autoreload extension is already loaded. To reload it, use:\n",
      "  %reload_ext autoreload\n"
     ]
    }
   ],
   "source": [
    "%load_ext autoreload\n",
    "%autoreload 2\n",
    "import torch\n",
    "import torch.nn as nn\n",
    "from torchvision import datasets, transforms\n",
    "from torch_kfac import KFAC\n",
    "import tqdm"
   ]
  },
  {
   "cell_type": "markdown",
   "metadata": {},
   "source": [
    "## Load MNIST dataset"
   ]
  },
  {
   "cell_type": "code",
   "execution_count": 12,
   "metadata": {},
   "outputs": [],
   "source": [
    "batch_size = 1024"
   ]
  },
  {
   "cell_type": "code",
   "execution_count": 13,
   "metadata": {},
   "outputs": [],
   "source": [
    "transform=transforms.Compose([\n",
    "    transforms.ToTensor(),\n",
    "    transforms.Normalize((0.1307,), (0.3081,))\n",
    "])\n",
    "dataset1 = datasets.MNIST('../data', train=True, download=True,\n",
    "                   transform=transform)\n",
    "dataset2 = datasets.MNIST('../data', train=False,\n",
    "                   transform=transform)\n",
    "train_loader = torch.utils.data.DataLoader(dataset1, batch_size=batch_size, shuffle=True)\n",
    "test_loader = torch.utils.data.DataLoader(dataset2, batch_size=batch_size)"
   ]
  },
  {
   "cell_type": "code",
   "execution_count": 14,
   "metadata": {},
   "outputs": [],
   "source": [
    "class Classifier(nn.Module):\n",
    "    def __init__(self):\n",
    "        super().__init__()\n",
    "        \n",
    "        self.convolutions = nn.Sequential(\n",
    "            nn.Conv2d(1, 2, (7, 7)),\n",
    "            nn.Tanh(),\n",
    "            nn.Conv2d(2, 4, (7, 7)),\n",
    "            nn.Tanh(),\n",
    "            nn.Conv2d(4, 4, (7, 7)),\n",
    "            nn.Tanh(),\n",
    "            nn.Conv2d(4, 8, (7, 7)),\n",
    "            nn.Tanh(),\n",
    "        )\n",
    "        \n",
    "        self.head = nn.Linear(128, 10)\n",
    "    \n",
    "    def forward(self, x):\n",
    "        out = self.convolutions(x).reshape(x.shape[0], -1)\n",
    "        return self.head(out)"
   ]
  },
  {
   "cell_type": "markdown",
   "metadata": {},
   "source": [
    "# KFAC with model distribution"
   ]
  },
  {
   "cell_type": "code",
   "execution_count": 30,
   "metadata": {},
   "outputs": [],
   "source": [
    "model = Classifier().cuda()\n",
    "optim = KFAC(model, 9e-3, 1e-3, momentum_type='regular', momentum=0.95, adapt_damping=True, update_cov_manually=True)\n",
    "loss_fn = nn.CrossEntropyLoss(reduction='mean')"
   ]
  },
  {
   "cell_type": "code",
   "execution_count": 31,
   "metadata": {
    "tags": []
   },
   "outputs": [
    {
     "name": "stderr",
     "output_type": "stream",
     "text": [
      "100%|█| 59/59 [00:10<00:00,  5.76it/s, loss=0.702, dampin\n",
      "100%|█| 59/59 [00:10<00:00,  5.87it/s, loss=0.493, dampin\n",
      "100%|█| 59/59 [00:10<00:00,  5.89it/s, loss=0.382, dampin\n",
      "100%|█| 59/59 [00:10<00:00,  5.74it/s, loss=0.276, dampin\n",
      "100%|█| 59/59 [00:10<00:00,  5.73it/s, loss=0.21, damping\n",
      "100%|█| 59/59 [00:10<00:00,  5.60it/s, loss=0.206, dampin\n",
      "100%|█| 59/59 [00:10<00:00,  5.80it/s, loss=0.272, dampin\n",
      "100%|█| 59/59 [00:10<00:00,  5.69it/s, loss=0.231, dampin\n",
      "100%|█| 59/59 [00:10<00:00,  5.78it/s, loss=0.18, damping\n",
      "100%|█| 59/59 [00:10<00:00,  5.63it/s, loss=0.18, damping\n"
     ]
    }
   ],
   "source": [
    "kfac_losses = []\n",
    "for i in range(10):\n",
    "    with tqdm.tqdm(train_loader) as progress:\n",
    "        for inp, labels in progress:\n",
    "            inp, labels = inp.cuda(), labels.cuda()\n",
    "            model.zero_grad()\n",
    "            # Estimate with model distribution\n",
    "            with optim.track_forward():\n",
    "                out = model(inp)\n",
    "                out_samples = torch.multinomial(torch.softmax(out.detach(), 1), 1).reshape(out.shape[0])\n",
    "                loss = loss_fn(out, out_samples)\n",
    "            with optim.track_backward():\n",
    "                loss.backward()\n",
    "            optim.update_cov()\n",
    "            # Compute loss to backprop\n",
    "            model.zero_grad()\n",
    "            out = model(inp)\n",
    "            loss = loss_fn(out, labels)\n",
    "            loss.backward()\n",
    "            optim.step(loss=loss)\n",
    "            progress.set_postfix({\n",
    "                'loss': loss.item(),\n",
    "                'damping': optim.damping.item()\n",
    "            })\n",
    "            kfac_losses.append(loss.item())"
   ]
  },
  {
   "cell_type": "markdown",
   "metadata": {},
   "source": [
    "# KFAC with data distribution"
   ]
  },
  {
   "cell_type": "code",
   "execution_count": 33,
   "metadata": {},
   "outputs": [],
   "source": [
    "model = Classifier().cuda()\n",
    "optim = KFAC(model, 9e-3, 1e-3, momentum_type='regular', momentum=0.95, adapt_damping=True, update_cov_manually=False)\n",
    "loss_fn = nn.CrossEntropyLoss(reduction='mean')"
   ]
  },
  {
   "cell_type": "code",
   "execution_count": 34,
   "metadata": {},
   "outputs": [
    {
     "name": "stderr",
     "output_type": "stream",
     "text": [
      "100%|█| 59/59 [00:09<00:00,  6.11it/s, loss=0.695, dampin\n",
      "100%|█| 59/59 [00:09<00:00,  6.01it/s, loss=0.341, dampin\n",
      "100%|█| 59/59 [00:09<00:00,  6.20it/s, loss=0.291, dampin\n",
      "100%|█| 59/59 [00:09<00:00,  6.13it/s, loss=0.239, dampin\n",
      "100%|█| 59/59 [00:09<00:00,  6.19it/s, loss=0.202, dampin\n",
      "100%|█| 59/59 [00:09<00:00,  6.07it/s, loss=0.264, dampin\n",
      "100%|█| 59/59 [00:09<00:00,  6.06it/s, loss=0.21, damping\n",
      "100%|█| 59/59 [00:10<00:00,  5.85it/s, loss=0.173, dampin\n",
      "100%|█| 59/59 [00:09<00:00,  6.04it/s, loss=0.112, dampin\n",
      "100%|█| 59/59 [00:09<00:00,  5.94it/s, loss=0.171, dampin\n"
     ]
    }
   ],
   "source": [
    "kfac_data_losses = []\n",
    "for i in range(10):\n",
    "    with tqdm.tqdm(train_loader) as progress:\n",
    "        for inp, labels in progress:\n",
    "            inp, labels = inp.cuda(), labels.cuda()\n",
    "            model.zero_grad()\n",
    "            with optim.track_forward():\n",
    "                out = model(inp)\n",
    "                loss = loss_fn(out, labels)\n",
    "            with optim.track_backward():\n",
    "                loss.backward()\n",
    "            optim.step(loss=loss)\n",
    "            progress.set_postfix({\n",
    "                'loss': loss.item(),\n",
    "                'damping': optim.damping.item()\n",
    "            })\n",
    "            kfac_data_losses.append(loss.item())"
   ]
  },
  {
   "cell_type": "markdown",
   "metadata": {},
   "source": [
    "# Adam"
   ]
  },
  {
   "cell_type": "code",
   "execution_count": 35,
   "metadata": {},
   "outputs": [],
   "source": [
    "model = Classifier().cuda()\n",
    "optim = torch.optim.Adam(model.parameters())\n",
    "loss_fn = nn.CrossEntropyLoss(reduction='mean')"
   ]
  },
  {
   "cell_type": "code",
   "execution_count": 36,
   "metadata": {
    "tags": []
   },
   "outputs": [
    {
     "name": "stderr",
     "output_type": "stream",
     "text": [
      "100%|████████| 59/59 [00:08<00:00,  6.82it/s, loss=0.912]\n",
      "100%|████████| 59/59 [00:08<00:00,  7.07it/s, loss=0.405]\n",
      "100%|████████| 59/59 [00:08<00:00,  6.98it/s, loss=0.357]\n",
      "100%|████████| 59/59 [00:08<00:00,  6.83it/s, loss=0.264]\n",
      "100%|████████| 59/59 [00:08<00:00,  6.89it/s, loss=0.247]\n",
      "100%|████████| 59/59 [00:08<00:00,  6.89it/s, loss=0.199]\n",
      "100%|█████████| 59/59 [00:08<00:00,  6.97it/s, loss=0.21]\n",
      "100%|████████| 59/59 [00:08<00:00,  7.00it/s, loss=0.161]\n",
      "100%|████████| 59/59 [00:08<00:00,  6.77it/s, loss=0.157]\n",
      "100%|████████| 59/59 [00:08<00:00,  6.94it/s, loss=0.171]\n"
     ]
    }
   ],
   "source": [
    "adam_losses = []\n",
    "for i in range(10):\n",
    "    with tqdm.tqdm(train_loader) as progress:\n",
    "        for inp, labels in progress:\n",
    "            inp, labels = inp.cuda(), labels.cuda()\n",
    "            model.zero_grad()\n",
    "            out = model(inp)\n",
    "            loss = loss_fn(out, labels)\n",
    "            loss.backward()\n",
    "            optim.step()\n",
    "            progress.set_postfix({\n",
    "                'loss': loss.item()\n",
    "            })\n",
    "            adam_losses.append(loss.item())"
   ]
  },
  {
   "cell_type": "code",
   "execution_count": 37,
   "metadata": {},
   "outputs": [
    {
     "data": {
      "text/plain": [
       "<matplotlib.legend.Legend at 0x1fc64647c10>"
      ]
     },
     "execution_count": 37,
     "metadata": {},
     "output_type": "execute_result"
    },
    {
     "data": {
      "image/png": "[encoded data removed]",
      "text/plain": [
       "<Figure size 432x288 with 1 Axes>"
      ]
     },
     "metadata": {
      "needs_background": "light"
     },
     "output_type": "display_data"
    }
   ],
   "source": [
    "import matplotlib.pyplot as plt\n",
    "plt.plot(kfac_losses)\n",
    "plt.plot(kfac_data_losses)\n",
    "plt.plot(adam_losses)\n",
    "plt.xlabel('Training iteration')\n",
    "plt.ylabel('Training loss')\n",
    "plt.yscale('log')\n",
    "plt.legend(['Kfac - model', 'Kfac - data', 'Adam'])"
   ]
  },
  {
   "cell_type": "code",
   "execution_count": null,
   "metadata": {},
   "outputs": [],
   "source": []
  }
 ],
 "metadata": {
  "kernelspec": {
   "display_name": "Python 3 (ipykernel)",
   "language": "python",
   "name": "python3"
  },
  "language_info": {
   "codemirror_mode": {
    "name": "ipython",
    "version": 3
   },
   "file_extension": ".py",
   "mimetype": "text/x-python",
   "name": "python",
   "nbconvert_exporter": "python",
   "pygments_lexer": "ipython3",
   "version": "3.8.12"
  }
 },
 "nbformat": 4,
 "nbformat_minor": 4
}
